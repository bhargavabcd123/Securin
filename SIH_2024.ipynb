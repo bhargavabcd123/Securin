{
  "nbformat": 4,
  "nbformat_minor": 0,
  "metadata": {
    "colab": {
      "provenance": [],
      "mount_file_id": "1t_IFthFt__o1s0ijkkBbcdpubd6v67K-",
      "authorship_tag": "ABX9TyMJp10wzSTl/GzG21aY7Dwt",
      "include_colab_link": true
    },
    "kernelspec": {
      "name": "python3",
      "display_name": "Python 3"
    },
    "language_info": {
      "name": "python"
    }
  },
  "cells": [
    {
      "cell_type": "markdown",
      "metadata": {
        "id": "view-in-github",
        "colab_type": "text"
      },
      "source": [
        "<a href=\"https://colab.research.google.com/github/bhargavabcd123/Securin/blob/main/SIH_2024.ipynb\" target=\"_parent\"><img src=\"https://colab.research.google.com/assets/colab-badge.svg\" alt=\"Open In Colab\"/></a>"
      ]
    },
    {
      "cell_type": "code",
      "execution_count": null,
      "metadata": {
        "id": "bX3WX9MDHSXr"
      },
      "outputs": [],
      "source": [
        "import pandas as pd\n",
        "\n",
        "# Load mentors and startups datasets\n",
        "mentors_df = pd.read_csv('/content/drive/MyDrive/Merged start up_dataset.csv')\n",
        "startups_df = pd.read_csv('/content/drive/MyDrive/Mentors excel.csv')\n"
      ]
    },
    {
      "cell_type": "code",
      "source": [
        "from sklearn.feature_extraction.text import TfidfVectorizer\n",
        "\n",
        "# Combine all text data from mentors and startups for vectorization\n",
        "print(mentors_df.columns)\n",
        "print(startups_df.columns)\n",
        "print(startups_df.head())\n",
        "\n"
      ],
      "metadata": {
        "id": "QMqBbeZYHze2",
        "colab": {
          "base_uri": "https://localhost:8080/"
        },
        "outputId": "0f363a54-ac40-471d-9061-7a700f1694bd"
      },
      "execution_count": null,
      "outputs": [
        {
          "output_type": "stream",
          "name": "stdout",
          "text": [
            "Index(['Year', 'Company/Brand', 'HeadQuarter', 'Sector', 'Amount($)', 'Stage'], dtype='object')\n",
            "Index(['Mentor ID', 'Mentor Name', 'Industry Expertise', 'Years of Experience',\n",
            "       'Specialization', 'Previous Mentorship Success', 'Startup Focus',\n",
            "       'Mentor Availability', 'Preferred Communication Method', 'Location'],\n",
            "      dtype='object')\n",
            "  Mentor ID      Mentor Name   Industry Expertise  Years of Experience  \\\n",
            "0      M001    Alice Johnson           Technology                   15   \n",
            "1      M002     Robert Brown           Healthcare                   20   \n",
            "2      M003  Catherine Smith   Financial Services                   12   \n",
            "3      M004    Michael Davis  Retail & E-commerce                   10   \n",
            "4      M005      Emily Clark        Manufacturing                   18   \n",
            "\n",
            "                   Specialization Previous Mentorship Success  \\\n",
            "0           AI & Machine Learning                        High   \n",
            "1       Biotech & Pharmaceuticals                   Very High   \n",
            "2            Fintech & Blockchain                      Medium   \n",
            "3  Digital Marketing & E-commerce                        High   \n",
            "4       Supply Chain & Automation                        High   \n",
            "\n",
            "                Startup Focus Mentor Availability  \\\n",
            "0          AI-driven products           Available   \n",
            "1       Healthcare innovation             Limited   \n",
            "2        Fintech applications           Available   \n",
            "3        E-commerce platforms           Available   \n",
            "4  Manufacturing technologies           Available   \n",
            "\n",
            "  Preferred Communication Method           Location  \n",
            "0               Virtual meetings  San Francisco, CA  \n",
            "1             In-person meetings         Boston, MA  \n",
            "2               Virtual meetings       New York, NY  \n",
            "3               Virtual meetings        Chicago, IL  \n",
            "4             In-person meetings        Detroit, MI  \n"
          ]
        }
      ]
    },
    {
      "cell_type": "code",
      "source": [
        "import pandas as pd\n",
        "from sklearn.feature_extraction.text import TfidfVectorizer\n",
        "from sklearn.metrics.pairwise import cosine_similarity\n",
        "\n",
        "# Load the datasets\n",
        "mentors_df = pd.read_csv('/content/drive/MyDrive/Mentors excel.csv')\n",
        "startups_df = pd.read_csv('/content/drive/MyDrive/Merged start up_dataset.csv')\n",
        "\n",
        "# Display the first few rows of the data to understand the structure\n",
        "print(mentors_df.head())\n",
        "print(startups_df.head())\n",
        "\n",
        "# Preprocess text data - We'll use the 'Area of Specialization' for mentors and 'Industry Sector' for startups\n",
        "mentors_specialization = mentors_df['Specialization'].fillna('')\n",
        "startups_industry = startups_df['Sector'].fillna('')\n",
        "\n",
        "# Vectorize the text data using TF-IDF\n",
        "vectorizer = TfidfVectorizer()\n",
        "mentors_vectors = vectorizer.fit_transform(mentors_specialization)\n",
        "startups_vectors = vectorizer.transform(startups_industry)\n",
        "\n",
        "# Calculate cosine similarity between mentors and startups\n",
        "similarity_matrix = cosine_similarity(mentors_vectors, startups_vectors)\n",
        "\n",
        "# Find the best match for each startup\n",
        "matches = []\n",
        "for startup_idx in range(startups_vectors.shape[0]):\n",
        "    # Get similarity scores for this startup\n",
        "    similarity_scores = similarity_matrix[:, startup_idx]\n",
        "\n",
        "    # Find the index of the best matching mentor\n",
        "    best_mentor_idx = similarity_scores.argmax()\n",
        "\n",
        "    # Retrieve mentor and startup details\n",
        "    best_mentor = mentors_df.iloc[best_mentor_idx]\n",
        "    startup = startups_df.iloc[startup_idx]\n",
        "\n",
        "    # Store the match\n",
        "    matches.append({\n",
        "        'Startup Name': startup['Company/Brand'],\n",
        "        'Best Mentor': best_mentor['Mentor Name'],\n",
        "        'Mentor Specialization': best_mentor['Specialization'],\n",
        "        'Similarity Score': similarity_scores[best_mentor_idx]\n",
        "    })\n",
        "\n",
        "# Convert matches to a DataFrame\n",
        "matches_df = pd.DataFrame(matches)\n",
        "\n",
        "# Display the top matches\n",
        "print(matches_df.head())\n",
        "\n",
        "\n"
      ],
      "metadata": {
        "colab": {
          "base_uri": "https://localhost:8080/"
        },
        "id": "Z8qmfpxSk8RQ",
        "outputId": "53893866-c984-4849-9c5d-366edbb41791"
      },
      "execution_count": null,
      "outputs": [
        {
          "output_type": "stream",
          "name": "stdout",
          "text": [
            "  Mentor ID      Mentor Name   Industry Expertise  Years of Experience  \\\n",
            "0      M001    Alice Johnson           Technology                   15   \n",
            "1      M002     Robert Brown           Healthcare                   20   \n",
            "2      M003  Catherine Smith   Financial Services                   12   \n",
            "3      M004    Michael Davis  Retail & E-commerce                   10   \n",
            "4      M005      Emily Clark        Manufacturing                   18   \n",
            "\n",
            "                   Specialization Previous Mentorship Success  \\\n",
            "0           AI & Machine Learning                        High   \n",
            "1       Biotech & Pharmaceuticals                   Very High   \n",
            "2            Fintech & Blockchain                      Medium   \n",
            "3  Digital Marketing & E-commerce                        High   \n",
            "4       Supply Chain & Automation                        High   \n",
            "\n",
            "                Startup Focus Mentor Availability  \\\n",
            "0          AI-driven products           Available   \n",
            "1       Healthcare innovation             Limited   \n",
            "2        Fintech applications           Available   \n",
            "3        E-commerce platforms           Available   \n",
            "4  Manufacturing technologies           Available   \n",
            "\n",
            "  Preferred Communication Method           Location  \n",
            "0               Virtual meetings  San Francisco, CA  \n",
            "1             In-person meetings         Boston, MA  \n",
            "2               Virtual meetings       New York, NY  \n",
            "3               Virtual meetings        Chicago, IL  \n",
            "4             In-person meetings        Detroit, MI  \n",
            "     Year    Company/Brand HeadQuarter  \\\n",
            "0  2018.0  TheCollegeFever   Bangalore   \n",
            "1  2018.0  Happy Cow Dairy      Mumbai   \n",
            "2  2018.0       MyLoanCare     Gurgaon   \n",
            "3  2018.0      PayMe India       Noida   \n",
            "4  2018.0         Eunimart   Hyderabad   \n",
            "\n",
            "                                              Sector  Amount($)     Stage  \n",
            "0  Brand Marketing, Event Promotion, Marketing, S...   250000.0      Seed  \n",
            "1                               Agriculture, Farming   584000.0      Seed  \n",
            "2   Credit, Financial Services, Lending, Marketplace   949000.0  Series A  \n",
            "3                        Financial Services, FinTech  2000000.0     Angel  \n",
            "4                 E-Commerce Platforms, Retail, SaaS  1300000.0      Seed  \n",
            "      Startup Name      Best Mentor       Mentor Specialization  \\\n",
            "0  TheCollegeFever   Amelia Roberts  Brand Strategy & Marketing   \n",
            "1  Happy Cow Dairy   Isabella Young       Precision Agriculture   \n",
            "2       MyLoanCare    Alice Johnson       AI & Machine Learning   \n",
            "3      PayMe India  Catherine Smith        Fintech & Blockchain   \n",
            "4         Eunimart     Lucas Martin              SaaS Platforms   \n",
            "\n",
            "   Similarity Score  \n",
            "0          0.745192  \n",
            "1          0.477575  \n",
            "2          0.000000  \n",
            "3          0.707107  \n",
            "4          0.719317  \n"
          ]
        }
      ]
    },
    {
      "cell_type": "code",
      "source": [
        "import pandas as pd\n",
        "from sklearn.feature_extraction.text import TfidfVectorizer\n",
        "from sklearn.metrics.pairwise import cosine_similarity\n",
        "\n",
        "# Load the datasets (if not already loaded)\n",
        "mentors_df = pd.read_csv('/content/drive/MyDrive/Mentors excel.csv')\n",
        "startups_df = pd.read_csv('/content/drive/MyDrive/Merged start up_dataset.csv')\n",
        "\n",
        "# Preprocess text data - We'll use the 'Area of Specialization' for mentors and 'Industry Sector' for startups\n",
        "mentors_specialization = mentors_df['Specialization'].fillna('')\n",
        "startups_industry = startups_df['Sector'].fillna('')\n",
        "\n",
        "# Vectorize the text data using TF-IDF\n",
        "vectorizer = TfidfVectorizer()\n",
        "mentors_vectors = vectorizer.fit_transform(mentors_specialization)  # Define mentor_vectors here\n",
        "startups_vectors = vectorizer.transform(startups_industry)  # Define startup_vectors here\n",
        "\n",
        "# Calculate the cosine similarity between mentor vectors and startup vectors\n",
        "similarity_matrix = cosine_similarity(mentors_vectors, startups_vectors)"
      ],
      "metadata": {
        "id": "_nnzy3nhyXFW"
      },
      "execution_count": null,
      "outputs": []
    },
    {
      "cell_type": "code",
      "source": [
        "# Create a DataFrame to store the results\n",
        "results = []\n",
        "\n",
        "# Iterate over each startup\n",
        "for startup_idx, startup_id in enumerate(startups_df['Startup ID']):\n",
        "    # Get similarity scores for this startup\n",
        "    similarity_scores = similarity_matrix[:, startup_idx]\n",
        "\n",
        "    # Find the index of the best matching mentor\n",
        "    best_mentor_idx = similarity_scores.argmax()\n",
        "\n",
        "    # Retrieve mentor details\n",
        "    best_mentor = mentors_df.iloc[best_mentor_idx]\n",
        "\n",
        "    # Store the result\n",
        "    results.append({\n",
        "        'Startup ID': startup_id,\n",
        "        'Startup Name': startups_df.loc[startup_idx, 'Name'],\n",
        "        'Best Mentor': best_mentor['Mentor Name'],\n",
        "        'Mentor Specialization': best_mentor['Area of Specialization'],\n",
        "        'Similarity Score': similarity_scores[best_mentor_idx]\n",
        "    })\n",
        "\n",
        "# Convert results to a DataFrame\n",
        "matches_df = pd.DataFrame(results)\n",
        "\n",
        "# Display the top 5 matches\n",
        "print(matches_df.head())\n"
      ],
      "metadata": {
        "id": "9CS5-nXNIC1w",
        "outputId": "7ccdc6cd-6796-4fbc-ebb8-81bcd3d69334",
        "colab": {
          "base_uri": "https://localhost:8080/",
          "height": 569
        },
        "collapsed": true
      },
      "execution_count": null,
      "outputs": [
        {
          "output_type": "error",
          "ename": "KeyError",
          "evalue": "'Startup ID'",
          "traceback": [
            "\u001b[0;31m---------------------------------------------------------------------------\u001b[0m",
            "\u001b[0;31mKeyError\u001b[0m                                  Traceback (most recent call last)",
            "\u001b[0;32m/usr/local/lib/python3.10/dist-packages/pandas/core/indexes/base.py\u001b[0m in \u001b[0;36mget_loc\u001b[0;34m(self, key)\u001b[0m\n\u001b[1;32m   3804\u001b[0m         \u001b[0;32mtry\u001b[0m\u001b[0;34m:\u001b[0m\u001b[0;34m\u001b[0m\u001b[0;34m\u001b[0m\u001b[0m\n\u001b[0;32m-> 3805\u001b[0;31m             \u001b[0;32mreturn\u001b[0m \u001b[0mself\u001b[0m\u001b[0;34m.\u001b[0m\u001b[0m_engine\u001b[0m\u001b[0;34m.\u001b[0m\u001b[0mget_loc\u001b[0m\u001b[0;34m(\u001b[0m\u001b[0mcasted_key\u001b[0m\u001b[0;34m)\u001b[0m\u001b[0;34m\u001b[0m\u001b[0;34m\u001b[0m\u001b[0m\n\u001b[0m\u001b[1;32m   3806\u001b[0m         \u001b[0;32mexcept\u001b[0m \u001b[0mKeyError\u001b[0m \u001b[0;32mas\u001b[0m \u001b[0merr\u001b[0m\u001b[0;34m:\u001b[0m\u001b[0;34m\u001b[0m\u001b[0;34m\u001b[0m\u001b[0m\n",
            "\u001b[0;32mindex.pyx\u001b[0m in \u001b[0;36mpandas._libs.index.IndexEngine.get_loc\u001b[0;34m()\u001b[0m\n",
            "\u001b[0;32mindex.pyx\u001b[0m in \u001b[0;36mpandas._libs.index.IndexEngine.get_loc\u001b[0;34m()\u001b[0m\n",
            "\u001b[0;32mpandas/_libs/hashtable_class_helper.pxi\u001b[0m in \u001b[0;36mpandas._libs.hashtable.PyObjectHashTable.get_item\u001b[0;34m()\u001b[0m\n",
            "\u001b[0;32mpandas/_libs/hashtable_class_helper.pxi\u001b[0m in \u001b[0;36mpandas._libs.hashtable.PyObjectHashTable.get_item\u001b[0;34m()\u001b[0m\n",
            "\u001b[0;31mKeyError\u001b[0m: 'Startup ID'",
            "\nThe above exception was the direct cause of the following exception:\n",
            "\u001b[0;31mKeyError\u001b[0m                                  Traceback (most recent call last)",
            "\u001b[0;32m<ipython-input-11-627075bc2c06>\u001b[0m in \u001b[0;36m<cell line: 5>\u001b[0;34m()\u001b[0m\n\u001b[1;32m      3\u001b[0m \u001b[0;34m\u001b[0m\u001b[0m\n\u001b[1;32m      4\u001b[0m \u001b[0;31m# Iterate over each startup\u001b[0m\u001b[0;34m\u001b[0m\u001b[0;34m\u001b[0m\u001b[0m\n\u001b[0;32m----> 5\u001b[0;31m \u001b[0;32mfor\u001b[0m \u001b[0mstartup_idx\u001b[0m\u001b[0;34m,\u001b[0m \u001b[0mstartup_id\u001b[0m \u001b[0;32min\u001b[0m \u001b[0menumerate\u001b[0m\u001b[0;34m(\u001b[0m\u001b[0mstartups_df\u001b[0m\u001b[0;34m[\u001b[0m\u001b[0;34m'Startup ID'\u001b[0m\u001b[0;34m]\u001b[0m\u001b[0;34m)\u001b[0m\u001b[0;34m:\u001b[0m\u001b[0;34m\u001b[0m\u001b[0;34m\u001b[0m\u001b[0m\n\u001b[0m\u001b[1;32m      6\u001b[0m     \u001b[0;31m# Get similarity scores for this startup\u001b[0m\u001b[0;34m\u001b[0m\u001b[0;34m\u001b[0m\u001b[0m\n\u001b[1;32m      7\u001b[0m     \u001b[0msimilarity_scores\u001b[0m \u001b[0;34m=\u001b[0m \u001b[0msimilarity_matrix\u001b[0m\u001b[0;34m[\u001b[0m\u001b[0;34m:\u001b[0m\u001b[0;34m,\u001b[0m \u001b[0mstartup_idx\u001b[0m\u001b[0;34m]\u001b[0m\u001b[0;34m\u001b[0m\u001b[0;34m\u001b[0m\u001b[0m\n",
            "\u001b[0;32m/usr/local/lib/python3.10/dist-packages/pandas/core/frame.py\u001b[0m in \u001b[0;36m__getitem__\u001b[0;34m(self, key)\u001b[0m\n\u001b[1;32m   4100\u001b[0m             \u001b[0;32mif\u001b[0m \u001b[0mself\u001b[0m\u001b[0;34m.\u001b[0m\u001b[0mcolumns\u001b[0m\u001b[0;34m.\u001b[0m\u001b[0mnlevels\u001b[0m \u001b[0;34m>\u001b[0m \u001b[0;36m1\u001b[0m\u001b[0;34m:\u001b[0m\u001b[0;34m\u001b[0m\u001b[0;34m\u001b[0m\u001b[0m\n\u001b[1;32m   4101\u001b[0m                 \u001b[0;32mreturn\u001b[0m \u001b[0mself\u001b[0m\u001b[0;34m.\u001b[0m\u001b[0m_getitem_multilevel\u001b[0m\u001b[0;34m(\u001b[0m\u001b[0mkey\u001b[0m\u001b[0;34m)\u001b[0m\u001b[0;34m\u001b[0m\u001b[0;34m\u001b[0m\u001b[0m\n\u001b[0;32m-> 4102\u001b[0;31m             \u001b[0mindexer\u001b[0m \u001b[0;34m=\u001b[0m \u001b[0mself\u001b[0m\u001b[0;34m.\u001b[0m\u001b[0mcolumns\u001b[0m\u001b[0;34m.\u001b[0m\u001b[0mget_loc\u001b[0m\u001b[0;34m(\u001b[0m\u001b[0mkey\u001b[0m\u001b[0;34m)\u001b[0m\u001b[0;34m\u001b[0m\u001b[0;34m\u001b[0m\u001b[0m\n\u001b[0m\u001b[1;32m   4103\u001b[0m             \u001b[0;32mif\u001b[0m \u001b[0mis_integer\u001b[0m\u001b[0;34m(\u001b[0m\u001b[0mindexer\u001b[0m\u001b[0;34m)\u001b[0m\u001b[0;34m:\u001b[0m\u001b[0;34m\u001b[0m\u001b[0;34m\u001b[0m\u001b[0m\n\u001b[1;32m   4104\u001b[0m                 \u001b[0mindexer\u001b[0m \u001b[0;34m=\u001b[0m \u001b[0;34m[\u001b[0m\u001b[0mindexer\u001b[0m\u001b[0;34m]\u001b[0m\u001b[0;34m\u001b[0m\u001b[0;34m\u001b[0m\u001b[0m\n",
            "\u001b[0;32m/usr/local/lib/python3.10/dist-packages/pandas/core/indexes/base.py\u001b[0m in \u001b[0;36mget_loc\u001b[0;34m(self, key)\u001b[0m\n\u001b[1;32m   3810\u001b[0m             ):\n\u001b[1;32m   3811\u001b[0m                 \u001b[0;32mraise\u001b[0m \u001b[0mInvalidIndexError\u001b[0m\u001b[0;34m(\u001b[0m\u001b[0mkey\u001b[0m\u001b[0;34m)\u001b[0m\u001b[0;34m\u001b[0m\u001b[0;34m\u001b[0m\u001b[0m\n\u001b[0;32m-> 3812\u001b[0;31m             \u001b[0;32mraise\u001b[0m \u001b[0mKeyError\u001b[0m\u001b[0;34m(\u001b[0m\u001b[0mkey\u001b[0m\u001b[0;34m)\u001b[0m \u001b[0;32mfrom\u001b[0m \u001b[0merr\u001b[0m\u001b[0;34m\u001b[0m\u001b[0;34m\u001b[0m\u001b[0m\n\u001b[0m\u001b[1;32m   3813\u001b[0m         \u001b[0;32mexcept\u001b[0m \u001b[0mTypeError\u001b[0m\u001b[0;34m:\u001b[0m\u001b[0;34m\u001b[0m\u001b[0;34m\u001b[0m\u001b[0m\n\u001b[1;32m   3814\u001b[0m             \u001b[0;31m# If we have a listlike key, _check_indexing_error will raise\u001b[0m\u001b[0;34m\u001b[0m\u001b[0;34m\u001b[0m\u001b[0m\n",
            "\u001b[0;31mKeyError\u001b[0m: 'Startup ID'"
          ]
        }
      ]
    }
  ]
}